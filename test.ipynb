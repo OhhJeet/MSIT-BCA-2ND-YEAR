{
 "cells": [
  {
   "cell_type": "code",
   "execution_count": 6,
   "metadata": {},
   "outputs": [
    {
     "name": "stdout",
     "output_type": "stream",
     "text": [
      "23 <class 'int'>\n",
      "23 <class 'str'>\n"
     ]
    }
   ],
   "source": [
    "# class Main:\n",
    "#     def main():\n",
    "#         a=float(input())\n",
    "#         b=input()\n",
    "#         print(a,type(a))\n",
    "#         print(b,type(b))\n",
    "# Main.main()\n",
    "\n",
    "\n",
    "\n",
    "a=int(input(\"Enter a number -> \"))\n",
    "b=int(input(\"Enter second number -> \"))\n"
   ]
  }
 ],
 "metadata": {
  "kernelspec": {
   "display_name": "Python 3",
   "language": "python",
   "name": "python3"
  },
  "language_info": {
   "codemirror_mode": {
    "name": "ipython",
    "version": 3
   },
   "file_extension": ".py",
   "mimetype": "text/x-python",
   "name": "python",
   "nbconvert_exporter": "python",
   "pygments_lexer": "ipython3",
   "version": "3.12.1"
  }
 },
 "nbformat": 4,
 "nbformat_minor": 2
}
